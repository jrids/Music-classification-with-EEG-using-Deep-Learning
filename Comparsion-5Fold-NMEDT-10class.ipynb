{
 "cells": [
  {
   "cell_type": "code",
   "execution_count": 1,
   "id": "70a07a1d",
   "metadata": {
    "scrolled": true
   },
   "outputs": [
    {
     "name": "stderr",
     "output_type": "stream",
     "text": [
      "2023-02-17 15:04:42.681315: I tensorflow/stream_executor/platform/default/dso_loader.cc:49] Successfully opened dynamic library libcudart.so.10.1\n",
      "2023-02-17 15:04:43.651055: I tensorflow/core/platform/cpu_feature_guard.cc:142] This TensorFlow binary is optimized with oneAPI Deep Neural Network Library (oneDNN) to use the following CPU instructions in performance-critical operations:  SSE4.1 SSE4.2 AVX AVX2 FMA\n",
      "To enable them in other operations, rebuild TensorFlow with the appropriate compiler flags.\n",
      "2023-02-17 15:04:43.651381: I tensorflow/compiler/jit/xla_gpu_device.cc:99] Not creating XLA devices, tf_xla_enable_xla_devices not set\n",
      "2023-02-17 15:04:43.652248: I tensorflow/stream_executor/platform/default/dso_loader.cc:49] Successfully opened dynamic library libcuda.so.1\n",
      "2023-02-17 15:04:43.709459: I tensorflow/stream_executor/cuda/cuda_gpu_executor.cc:941] successful NUMA node read from SysFS had negative value (-1), but there must be at least one NUMA node, so returning NUMA node zero\n",
      "2023-02-17 15:04:43.709955: I tensorflow/core/common_runtime/gpu/gpu_device.cc:1720] Found device 0 with properties: \n",
      "pciBusID: 0000:08:00.0 name: GeForce RTX 2060 SUPER computeCapability: 7.5\n",
      "coreClock: 1.695GHz coreCount: 34 deviceMemorySize: 7.79GiB deviceMemoryBandwidth: 417.29GiB/s\n",
      "2023-02-17 15:04:43.709979: I tensorflow/stream_executor/platform/default/dso_loader.cc:49] Successfully opened dynamic library libcudart.so.10.1\n",
      "2023-02-17 15:04:43.711066: I tensorflow/stream_executor/platform/default/dso_loader.cc:49] Successfully opened dynamic library libcublas.so.10\n",
      "2023-02-17 15:04:43.711096: I tensorflow/stream_executor/platform/default/dso_loader.cc:49] Successfully opened dynamic library libcublasLt.so.10\n",
      "2023-02-17 15:04:43.712187: I tensorflow/stream_executor/platform/default/dso_loader.cc:49] Successfully opened dynamic library libcufft.so.10\n",
      "2023-02-17 15:04:43.712374: I tensorflow/stream_executor/platform/default/dso_loader.cc:49] Successfully opened dynamic library libcurand.so.10\n",
      "2023-02-17 15:04:43.713368: I tensorflow/stream_executor/platform/default/dso_loader.cc:49] Successfully opened dynamic library libcusolver.so.10\n",
      "2023-02-17 15:04:43.714022: I tensorflow/stream_executor/platform/default/dso_loader.cc:49] Successfully opened dynamic library libcusparse.so.10\n",
      "2023-02-17 15:04:43.716160: I tensorflow/stream_executor/platform/default/dso_loader.cc:49] Successfully opened dynamic library libcudnn.so.7\n",
      "2023-02-17 15:04:43.716330: I tensorflow/stream_executor/cuda/cuda_gpu_executor.cc:941] successful NUMA node read from SysFS had negative value (-1), but there must be at least one NUMA node, so returning NUMA node zero\n",
      "2023-02-17 15:04:43.716845: I tensorflow/stream_executor/cuda/cuda_gpu_executor.cc:941] successful NUMA node read from SysFS had negative value (-1), but there must be at least one NUMA node, so returning NUMA node zero\n",
      "2023-02-17 15:04:43.717267: I tensorflow/core/common_runtime/gpu/gpu_device.cc:1862] Adding visible gpu devices: 0\n",
      "2023-02-17 15:04:43.717311: I tensorflow/stream_executor/platform/default/dso_loader.cc:49] Successfully opened dynamic library libcudart.so.10.1\n",
      "2023-02-17 15:04:44.256083: I tensorflow/core/common_runtime/gpu/gpu_device.cc:1261] Device interconnect StreamExecutor with strength 1 edge matrix:\n",
      "2023-02-17 15:04:44.256126: I tensorflow/core/common_runtime/gpu/gpu_device.cc:1267]      0 \n",
      "2023-02-17 15:04:44.256131: I tensorflow/core/common_runtime/gpu/gpu_device.cc:1280] 0:   N \n",
      "2023-02-17 15:04:44.256335: I tensorflow/stream_executor/cuda/cuda_gpu_executor.cc:941] successful NUMA node read from SysFS had negative value (-1), but there must be at least one NUMA node, so returning NUMA node zero\n",
      "2023-02-17 15:04:44.256794: I tensorflow/stream_executor/cuda/cuda_gpu_executor.cc:941] successful NUMA node read from SysFS had negative value (-1), but there must be at least one NUMA node, so returning NUMA node zero\n",
      "2023-02-17 15:04:44.257219: I tensorflow/stream_executor/cuda/cuda_gpu_executor.cc:941] successful NUMA node read from SysFS had negative value (-1), but there must be at least one NUMA node, so returning NUMA node zero\n",
      "2023-02-17 15:04:44.257624: I tensorflow/core/common_runtime/gpu/gpu_device.cc:1406] Created TensorFlow device (/job:localhost/replica:0/task:0/device:GPU:0 with 2792 MB memory) -> physical GPU (device: 0, name: GeForce RTX 2060 SUPER, pci bus id: 0000:08:00.0, compute capability: 7.5)\n"
     ]
    }
   ],
   "source": [
    "import tensorflow as tf\n",
    "\n",
    "# gpu_options = tf.GPUOptions(per_process_gpu_memory_fraction=0.25)\n",
    "# sess = tf.Session(config=tf.ConfigProto(gpu_options=gpu_options))\n",
    "\n",
    "# tf.config.gpu.set_per_process_memory_fraction(0.25)\n",
    "# tf.config.gpu.set_per_process_memory_growth(True)\n",
    "\n",
    "# config = tf.compat.v1.ConfigProto()\n",
    "# config.gpu_options.allow_growth=True\n",
    "# sess = tf.compat.v1.Session(config=config)\n",
    "\n",
    "config = tf.compat.v1.ConfigProto()\n",
    "config.gpu_options.per_process_gpu_memory_fraction = 0.35\n",
    "session = tf.compat.v1.Session(config=config)\n",
    "\n",
    "# tf.config.gpu.set_per_process_memory_growth(True)\n",
    "# tf.config.experimental.set_virtual_device_configuration(0.25)"
   ]
  },
  {
   "cell_type": "code",
   "execution_count": 2,
   "id": "92443188",
   "metadata": {},
   "outputs": [],
   "source": [
    "\"\"\"\n",
    " ARL_EEGModels - A collection of Convolutional Neural Network models for EEG\n",
    " Signal Processing and Classification, using Keras and Tensorflow\n",
    "\n",
    " Requirements:\n",
    "    (1) tensorflow == 2.X (as of this writing, 2.0 - 2.3 have been verified\n",
    "        as working)\n",
    " \n",
    " To run the EEG/MEG ERP classification sample script, you will also need\n",
    "\n",
    "    (4) mne >= 0.17.1\n",
    "    (5) PyRiemann >= 0.2.5\n",
    "    (6) scikit-learn >= 0.20.1\n",
    "    (7) matplotlib >= 2.2.3\n",
    "    \n",
    " To use:\n",
    "    \n",
    "    (1) Place this file in the PYTHONPATH variable in your IDE (i.e.: Spyder)\n",
    "    (2) Import the model as\n",
    "        \n",
    "        from EEGModels import EEGNet    \n",
    "        \n",
    "        model = EEGNet(nb_classes = ..., Chans = ..., Samples = ...)\n",
    "        \n",
    "    (3) Then compile and fit the model\n",
    "    \n",
    "        model.compile(loss = ..., optimizer = ..., metrics = ...)\n",
    "        fitted    = model.fit(...)\n",
    "        predicted = model.predict(...)\n",
    "\n",
    " Portions of this project are works of the United States Government and are not\n",
    " subject to domestic copyright protection under 17 USC Sec. 105.  Those \n",
    " portions are released world-wide under the terms of the Creative Commons Zero \n",
    " 1.0 (CC0) license.  \n",
    " \n",
    " Other portions of this project are subject to domestic copyright protection \n",
    " under 17 USC Sec. 105.  Those portions are licensed under the Apache 2.0 \n",
    " license.  The complete text of the license governing this material is in \n",
    " the file labeled LICENSE.TXT that is a part of this project's official \n",
    " distribution. \n",
    "\"\"\"\n",
    "\n",
    "from tensorflow.keras.models import Model\n",
    "from tensorflow.keras.layers import Dense, Activation, Permute, Dropout\n",
    "from tensorflow.keras.layers import Conv2D, MaxPooling2D, AveragePooling2D\n",
    "from tensorflow.keras.layers import SeparableConv2D, DepthwiseConv2D\n",
    "from tensorflow.keras.layers import BatchNormalization\n",
    "from tensorflow.keras.layers import SpatialDropout2D\n",
    "from tensorflow.keras.regularizers import l1_l2\n",
    "from tensorflow.keras.layers import Input, Flatten\n",
    "from tensorflow.keras.constraints import max_norm\n",
    "from tensorflow.keras import backend as K\n",
    "\n",
    "\n",
    "def EEGNet(nb_classes, Chans = 64, Samples = 128, \n",
    "             dropoutRate = 0.5, kernLength = 64, F1 = 8, \n",
    "             D = 2, F2 = 16, norm_rate = 0.25, dropoutType = 'Dropout'):\n",
    "    \"\"\" Keras Implementation of EEGNet\n",
    "    http://iopscience.iop.org/article/10.1088/1741-2552/aace8c/meta\n",
    "\n",
    "    Note that this implements the newest version of EEGNet and NOT the earlier\n",
    "    version (version v1 and v2 on arxiv). We strongly recommend using this\n",
    "    architecture as it performs much better and has nicer properties than\n",
    "    our earlier version. For example:\n",
    "        \n",
    "        1. Depthwise Convolutions to learn spatial filters within a \n",
    "        temporal convolution. The use of the depth_multiplier option maps \n",
    "        exactly to the number of spatial filters learned within a temporal\n",
    "        filter. This matches the setup of algorithms like FBCSP which learn \n",
    "        spatial filters within each filter in a filter-bank. This also limits \n",
    "        the number of free parameters to fit when compared to a fully-connected\n",
    "        convolution. \n",
    "        \n",
    "        2. Separable Convolutions to learn how to optimally combine spatial\n",
    "        filters across temporal bands. Separable Convolutions are Depthwise\n",
    "        Convolutions followed by (1x1) Pointwise Convolutions. \n",
    "        \n",
    "    \n",
    "    While the original paper used Dropout, we found that SpatialDropout2D \n",
    "    sometimes produced slightly better results for classification of ERP \n",
    "    signals. However, SpatialDropout2D significantly reduced performance \n",
    "    on the Oscillatory dataset (SMR, BCI-IV Dataset 2A). We recommend using\n",
    "    the default Dropout in most cases.\n",
    "        \n",
    "    Assumes the input signal is sampled at 128Hz. If you want to use this model\n",
    "    for any other sampling rate you will need to modify the lengths of temporal\n",
    "    kernels and average pooling size in blocks 1 and 2 as needed (double the \n",
    "    kernel lengths for double the sampling rate, etc). Note that we haven't \n",
    "    tested the model performance with this rule so this may not work well. \n",
    "    \n",
    "    The model with default parameters gives the EEGNet-8,2 model as discussed\n",
    "    in the paper. This model should do pretty well in general, although it is\n",
    "\tadvised to do some model searching to get optimal performance on your\n",
    "\tparticular dataset.\n",
    "\n",
    "    We set F2 = F1 * D (number of input filters = number of output filters) for\n",
    "    the SeparableConv2D layer. We haven't extensively tested other values of this\n",
    "    parameter (say, F2 < F1 * D for compressed learning, and F2 > F1 * D for\n",
    "    overcomplete). We believe the main parameters to focus on are F1 and D. \n",
    "\n",
    "    Inputs:\n",
    "        \n",
    "      nb_classes      : int, number of classes to classify\n",
    "      Chans, Samples  : number of channels and time points in the EEG data\n",
    "      dropoutRate     : dropout fraction\n",
    "      kernLength      : length of temporal convolution in first layer. We found\n",
    "                        that setting this to be half the sampling rate worked\n",
    "                        well in practice. For the SMR dataset in particular\n",
    "                        since the data was high-passed at 4Hz we used a kernel\n",
    "                        length of 32.     \n",
    "      F1, F2          : number of temporal filters (F1) and number of pointwise\n",
    "                        filters (F2) to learn. Default: F1 = 8, F2 = F1 * D. \n",
    "      D               : number of spatial filters to learn within each temporal\n",
    "                        convolution. Default: D = 2\n",
    "      dropoutType     : Either SpatialDropout2D or Dropout, passed as a string.\n",
    "\n",
    "    \"\"\"\n",
    "    \n",
    "    if dropoutType == 'SpatialDropout2D':\n",
    "        dropoutType = SpatialDropout2D\n",
    "    elif dropoutType == 'Dropout':\n",
    "        dropoutType = Dropout\n",
    "    else:\n",
    "        raise ValueError('dropoutType must be one of SpatialDropout2D '\n",
    "                         'or Dropout, passed as a string.')\n",
    "    \n",
    "    input1   = Input(shape = (Chans, Samples, 1))\n",
    "\n",
    "    ##################################################################\n",
    "    block1       = Conv2D(F1, (1, kernLength), padding = 'same',\n",
    "                                   input_shape = (Chans, Samples, 1),\n",
    "                                   use_bias = False)(input1)\n",
    "    block1       = BatchNormalization()(block1)\n",
    "    block1       = DepthwiseConv2D((Chans, 1), use_bias = False, \n",
    "                                   depth_multiplier = D,\n",
    "                                   depthwise_constraint = max_norm(1.))(block1)\n",
    "    block1       = BatchNormalization()(block1)\n",
    "    block1       = Activation('elu')(block1)\n",
    "    block1       = AveragePooling2D((1, 4))(block1)\n",
    "    block1       = dropoutType(dropoutRate)(block1)\n",
    "    \n",
    "    block2       = SeparableConv2D(F2, (1, 16),\n",
    "                                   use_bias = False, padding = 'same')(block1)\n",
    "    block2       = BatchNormalization()(block2)\n",
    "    block2       = Activation('elu')(block2)\n",
    "    block2       = AveragePooling2D((1, 8))(block2)\n",
    "    block2       = dropoutType(dropoutRate)(block2)\n",
    "        \n",
    "    flatten      = Flatten(name = 'flatten')(block2)\n",
    "    \n",
    "    dense        = Dense(nb_classes, name = 'dense', \n",
    "                         kernel_constraint = max_norm(norm_rate))(flatten)\n",
    "    softmax      = Activation('softmax', name = 'softmax')(dense)\n",
    "    \n",
    "    return Model(inputs=input1, outputs=softmax)\n",
    "\n",
    "\n",
    "\n",
    "\n",
    "def EEGNet_SSVEP(nb_classes = 12, Chans = 8, Samples = 256, \n",
    "             dropoutRate = 0.5, kernLength = 256, F1 = 96, \n",
    "             D = 1, F2 = 96, dropoutType = 'Dropout'):\n",
    "    \"\"\" SSVEP Variant of EEGNet, as used in [1]. \n",
    "\n",
    "    Inputs:\n",
    "        \n",
    "      nb_classes      : int, number of classes to classify\n",
    "      Chans, Samples  : number of channels and time points in the EEG data\n",
    "      dropoutRate     : dropout fraction\n",
    "      kernLength      : length of temporal convolution in first layer\n",
    "      F1, F2          : number of temporal filters (F1) and number of pointwise\n",
    "                        filters (F2) to learn. \n",
    "      D               : number of spatial filters to learn within each temporal\n",
    "                        convolution.\n",
    "      dropoutType     : Either SpatialDropout2D or Dropout, passed as a string.\n",
    "      \n",
    "      \n",
    "    [1]. Waytowich, N. et. al. (2018). Compact Convolutional Neural Networks\n",
    "    for Classification of Asynchronous Steady-State Visual Evoked Potentials.\n",
    "    Journal of Neural Engineering vol. 15(6). \n",
    "    http://iopscience.iop.org/article/10.1088/1741-2552/aae5d8\n",
    "\n",
    "    \"\"\"\n",
    "    \n",
    "    if dropoutType == 'SpatialDropout2D':\n",
    "        dropoutType = SpatialDropout2D\n",
    "    elif dropoutType == 'Dropout':\n",
    "        dropoutType = Dropout\n",
    "    else:\n",
    "        raise ValueError('dropoutType must be one of SpatialDropout2D '\n",
    "                         'or Dropout, passed as a string.')\n",
    "    \n",
    "    input1   = Input(shape = (Chans, Samples, 1))\n",
    "\n",
    "    ##################################################################\n",
    "    block1       = Conv2D(F1, (1, kernLength), padding = 'same',\n",
    "                                   input_shape = (Chans, Samples, 1),\n",
    "                                   use_bias = False)(input1)\n",
    "    block1       = BatchNormalization()(block1)\n",
    "    block1       = DepthwiseConv2D((Chans, 1), use_bias = False, \n",
    "                                   depth_multiplier = D,\n",
    "                                   depthwise_constraint = max_norm(1.))(block1)\n",
    "    block1       = BatchNormalization()(block1)\n",
    "    block1       = Activation('elu')(block1)\n",
    "    block1       = AveragePooling2D((1, 4))(block1)\n",
    "    block1       = dropoutType(dropoutRate)(block1)\n",
    "    \n",
    "    block2       = SeparableConv2D(F2, (1, 16),\n",
    "                                   use_bias = False, padding = 'same')(block1)\n",
    "    block2       = BatchNormalization()(block2)\n",
    "    block2       = Activation('elu')(block2)\n",
    "    block2       = AveragePooling2D((1, 8))(block2)\n",
    "    block2       = dropoutType(dropoutRate)(block2)\n",
    "        \n",
    "    flatten      = Flatten(name = 'flatten')(block2)\n",
    "    \n",
    "    dense        = Dense(nb_classes, name = 'dense')(flatten)\n",
    "    softmax      = Activation('softmax', name = 'softmax')(dense)\n",
    "    \n",
    "    return Model(inputs=input1, outputs=softmax)\n",
    "\n",
    "\n",
    "\n",
    "def EEGNet_old(nb_classes, Chans = 64, Samples = 128, regRate = 0.0001,\n",
    "           dropoutRate = 0.25, kernels = [(2, 32), (8, 4)], strides = (2, 4)):\n",
    "    \"\"\" Keras Implementation of EEGNet_v1 (https://arxiv.org/abs/1611.08024v2)\n",
    "\n",
    "    This model is the original EEGNet model proposed on arxiv\n",
    "            https://arxiv.org/abs/1611.08024v2\n",
    "    \n",
    "    with a few modifications: we use striding instead of max-pooling as this \n",
    "    helped slightly in classification performance while also providing a \n",
    "    computational speed-up. \n",
    "    \n",
    "    Note that we no longer recommend the use of this architecture, as the new\n",
    "    version of EEGNet performs much better overall and has nicer properties.\n",
    "    \n",
    "    Inputs:\n",
    "        \n",
    "        nb_classes     : total number of final categories\n",
    "        Chans, Samples : number of EEG channels and samples, respectively\n",
    "        regRate        : regularization rate for L1 and L2 regularizations\n",
    "        dropoutRate    : dropout fraction\n",
    "        kernels        : the 2nd and 3rd layer kernel dimensions (default is \n",
    "                         the [2, 32] x [8, 4] configuration)\n",
    "        strides        : the stride size (note that this replaces the max-pool\n",
    "                         used in the original paper)\n",
    "    \n",
    "    \"\"\"\n",
    "\n",
    "    # start the model\n",
    "    input_main   = Input(shape = (Chans, Samples, 1))\n",
    "    layer1       = Conv2D(16, (Chans, 1), input_shape=(Chans, Samples, 1),\n",
    "                                 kernel_regularizer = l1_l2(l1=regRate, l2=regRate))(input_main)\n",
    "    layer1       = BatchNormalization()(layer1)\n",
    "    layer1       = Activation('elu')(layer1)\n",
    "    layer1       = Dropout(dropoutRate)(layer1)\n",
    "    \n",
    "    permute_dims = 2, 1, 3\n",
    "    permute1     = Permute(permute_dims)(layer1)\n",
    "    \n",
    "    layer2       = Conv2D(4, kernels[0], padding = 'same', \n",
    "                            kernel_regularizer=l1_l2(l1=0.0, l2=regRate),\n",
    "                            strides = strides)(permute1)\n",
    "    layer2       = BatchNormalization()(layer2)\n",
    "    layer2       = Activation('elu')(layer2)\n",
    "    layer2       = Dropout(dropoutRate)(layer2)\n",
    "    \n",
    "    layer3       = Conv2D(4, kernels[1], padding = 'same',\n",
    "                            kernel_regularizer=l1_l2(l1=0.0, l2=regRate),\n",
    "                            strides = strides)(layer2)\n",
    "    layer3       = BatchNormalization()(layer3)\n",
    "    layer3       = Activation('elu')(layer3)\n",
    "    layer3       = Dropout(dropoutRate)(layer3)\n",
    "    \n",
    "    flatten      = Flatten(name = 'flatten')(layer3)\n",
    "    \n",
    "    dense        = Dense(nb_classes, name = 'dense')(flatten)\n",
    "    softmax      = Activation('softmax', name = 'softmax')(dense)\n",
    "    \n",
    "    return Model(inputs=input_main, outputs=softmax)\n",
    "\n",
    "\n",
    "\n",
    "def DeepConvNet(nb_classes, Chans = 64, Samples = 256,\n",
    "                dropoutRate = 0.5):\n",
    "    \"\"\" Keras implementation of the Deep Convolutional Network as described in\n",
    "    Schirrmeister et. al. (2017), Human Brain Mapping.\n",
    "    \n",
    "    This implementation assumes the input is a 2-second EEG signal sampled at \n",
    "    128Hz, as opposed to signals sampled at 250Hz as described in the original\n",
    "    paper. We also perform temporal convolutions of length (1, 5) as opposed\n",
    "    to (1, 10) due to this sampling rate difference. \n",
    "    \n",
    "    Note that we use the max_norm constraint on all convolutional layers, as \n",
    "    well as the classification layer. We also change the defaults for the\n",
    "    BatchNormalization layer. We used this based on a personal communication \n",
    "    with the original authors.\n",
    "    \n",
    "                      ours        original paper\n",
    "    pool_size        1, 2        1, 3\n",
    "    strides          1, 2        1, 3\n",
    "    conv filters     1, 5        1, 10\n",
    "    \n",
    "    Note that this implementation has not been verified by the original \n",
    "    authors. \n",
    "    \n",
    "    \"\"\"\n",
    "\n",
    "    # start the model\n",
    "    input_main   = Input((Chans, Samples, 1))\n",
    "    block1       = Conv2D(25, (1, 5), \n",
    "                                 input_shape=(Chans, Samples, 1),\n",
    "                                 kernel_constraint = max_norm(2., axis=(0,1,2)))(input_main)\n",
    "    block1       = Conv2D(25, (Chans, 1),\n",
    "                                 kernel_constraint = max_norm(2., axis=(0,1,2)))(block1)\n",
    "    block1       = BatchNormalization(epsilon=1e-05, momentum=0.9)(block1)\n",
    "    block1       = Activation('elu')(block1)\n",
    "    block1       = MaxPooling2D(pool_size=(1, 2), strides=(1, 2))(block1)\n",
    "    block1       = Dropout(dropoutRate)(block1)\n",
    "  \n",
    "    block2       = Conv2D(50, (1, 5),\n",
    "                                 kernel_constraint = max_norm(2., axis=(0,1,2)))(block1)\n",
    "    block2       = BatchNormalization(epsilon=1e-05, momentum=0.9)(block2)\n",
    "    block2       = Activation('elu')(block2)\n",
    "    block2       = MaxPooling2D(pool_size=(1, 2), strides=(1, 2))(block2)\n",
    "    block2       = Dropout(dropoutRate)(block2)\n",
    "    \n",
    "    block3       = Conv2D(100, (1, 5),\n",
    "                                 kernel_constraint = max_norm(2., axis=(0,1,2)))(block2)\n",
    "    block3       = BatchNormalization(epsilon=1e-05, momentum=0.9)(block3)\n",
    "    block3       = Activation('elu')(block3)\n",
    "    block3       = MaxPooling2D(pool_size=(1, 2), strides=(1, 2))(block3)\n",
    "    block3       = Dropout(dropoutRate)(block3)\n",
    "    \n",
    "    block4       = Conv2D(200, (1, 5),\n",
    "                                 kernel_constraint = max_norm(2., axis=(0,1,2)))(block3)\n",
    "    block4       = BatchNormalization(epsilon=1e-05, momentum=0.9)(block4)\n",
    "    block4       = Activation('elu')(block4)\n",
    "    block4       = MaxPooling2D(pool_size=(1, 2), strides=(1, 2))(block4)\n",
    "    block4       = Dropout(dropoutRate)(block4)\n",
    "    \n",
    "    flatten      = Flatten()(block4)\n",
    "    \n",
    "    dense        = Dense(nb_classes, kernel_constraint = max_norm(0.5))(flatten)\n",
    "    softmax      = Activation('softmax')(dense)\n",
    "    \n",
    "    return Model(inputs=input_main, outputs=softmax)\n",
    "\n",
    "\n",
    "# need these for ShallowConvNet\n",
    "def square(x):\n",
    "    return K.square(x)\n",
    "\n",
    "def log(x):\n",
    "    return K.log(K.clip(x, min_value = 1e-7, max_value = 10000))   \n",
    "\n",
    "\n",
    "def ShallowConvNet(nb_classes, Chans = 64, Samples = 128, dropoutRate = 0.5):\n",
    "    \"\"\" Keras implementation of the Shallow Convolutional Network as described\n",
    "    in Schirrmeister et. al. (2017), Human Brain Mapping.\n",
    "    \n",
    "    Assumes the input is a 2-second EEG signal sampled at 128Hz. Note that in \n",
    "    the original paper, they do temporal convolutions of length 25 for EEG\n",
    "    data sampled at 250Hz. We instead use length 13 since the sampling rate is \n",
    "    roughly half of the 250Hz which the paper used. The pool_size and stride\n",
    "    in later layers is also approximately half of what is used in the paper.\n",
    "    \n",
    "    Note that we use the max_norm constraint on all convolutional layers, as \n",
    "    well as the classification layer. We also change the defaults for the\n",
    "    BatchNormalization layer. We used this based on a personal communication \n",
    "    with the original authors.\n",
    "    \n",
    "                     ours        original paper\n",
    "    pool_size        1, 35       1, 75\n",
    "    strides          1, 7        1, 15\n",
    "    conv filters     1, 13       1, 25    \n",
    "    \n",
    "    Note that this implementation has not been verified by the original \n",
    "    authors. We do note that this implementation reproduces the results in the\n",
    "    original paper with minor deviations. \n",
    "    \"\"\"\n",
    "\n",
    "    # start the model\n",
    "    input_main   = Input((Chans, Samples, 1))\n",
    "    block1       = Conv2D(40, (1, 13), \n",
    "                                 input_shape=(Chans, Samples, 1),\n",
    "                                 kernel_constraint = max_norm(2., axis=(0,1,2)))(input_main)\n",
    "    block1       = Conv2D(40, (Chans, 1), use_bias=False, \n",
    "                          kernel_constraint = max_norm(2., axis=(0,1,2)))(block1)\n",
    "    block1       = BatchNormalization(epsilon=1e-05, momentum=0.9)(block1)\n",
    "    block1       = Activation(square)(block1)\n",
    "    block1       = AveragePooling2D(pool_size=(1, 35), strides=(1, 7))(block1)\n",
    "    block1       = Activation(log)(block1)\n",
    "    block1       = Dropout(dropoutRate)(block1)\n",
    "    flatten      = Flatten()(block1)\n",
    "    dense        = Dense(nb_classes, kernel_constraint = max_norm(0.5))(flatten)\n",
    "    softmax      = Activation('softmax')(dense)\n",
    "    \n",
    "    return Model(inputs=input_main, outputs=softmax)\n",
    "\n"
   ]
  },
  {
   "cell_type": "code",
   "execution_count": 3,
   "id": "71c7a150",
   "metadata": {},
   "outputs": [],
   "source": [
    "import sys\n",
    "\n",
    "lag = 10 #int(str(sys.argv[1]))"
   ]
  },
  {
   "cell_type": "code",
   "execution_count": 4,
   "id": "9fa8afa9",
   "metadata": {},
   "outputs": [
    {
     "data": {
      "text/plain": [
       "dict_keys(['__header__', '__version__', '__globals__', 'data21', 'fs', 'subs21'])"
      ]
     },
     "execution_count": 4,
     "metadata": {},
     "output_type": "execute_result"
    }
   ],
   "source": [
    "from scipy.io import loadmat\n",
    "\n",
    "mat_contents = loadmat('song21_Imputed.mat')\n",
    "mat_contents.keys()"
   ]
  },
  {
   "cell_type": "code",
   "execution_count": 5,
   "id": "71f800b6",
   "metadata": {},
   "outputs": [],
   "source": [
    "event_id = dict(s1=0, s2=1, s3=2, s4=3)"
   ]
  },
  {
   "cell_type": "code",
   "execution_count": 6,
   "id": "296848fc",
   "metadata": {},
   "outputs": [],
   "source": [
    "subj = mat_contents['subs21']"
   ]
  },
  {
   "cell_type": "code",
   "execution_count": 7,
   "id": "e4c16b62",
   "metadata": {},
   "outputs": [
    {
     "data": {
      "text/plain": [
       "(1, 20)"
      ]
     },
     "execution_count": 7,
     "metadata": {},
     "output_type": "execute_result"
    }
   ],
   "source": [
    "subj.shape"
   ]
  },
  {
   "cell_type": "code",
   "execution_count": 8,
   "id": "4cfa1518",
   "metadata": {},
   "outputs": [
    {
     "data": {
      "text/plain": [
       "array([[array(['S02'], dtype='<U3'), array(['S03'], dtype='<U3'),\n",
       "        array(['S04'], dtype='<U3'), array(['S05'], dtype='<U3'),\n",
       "        array(['S06'], dtype='<U3'), array(['S07'], dtype='<U3'),\n",
       "        array(['S08'], dtype='<U3'), array(['S09'], dtype='<U3'),\n",
       "        array(['S10'], dtype='<U3'), array(['S11'], dtype='<U3'),\n",
       "        array(['S12'], dtype='<U3'), array(['S13'], dtype='<U3'),\n",
       "        array(['S14'], dtype='<U3'), array(['S15'], dtype='<U3'),\n",
       "        array(['S16'], dtype='<U3'), array(['S17'], dtype='<U3'),\n",
       "        array(['S19'], dtype='<U3'), array(['S20'], dtype='<U3'),\n",
       "        array(['S21'], dtype='<U3'), array(['S23'], dtype='<U3')]],\n",
       "      dtype=object)"
      ]
     },
     "execution_count": 8,
     "metadata": {},
     "output_type": "execute_result"
    }
   ],
   "source": [
    "subj"
   ]
  },
  {
   "cell_type": "code",
   "execution_count": 12,
   "id": "aafd2343",
   "metadata": {},
   "outputs": [],
   "source": [
    "sub_ids = []\n",
    "for id in subj[0]:\n",
    "    sub_ids.append(int(id[0][1:]))"
   ]
  },
  {
   "cell_type": "code",
   "execution_count": 10,
   "id": "73daaf88",
   "metadata": {},
   "outputs": [
    {
     "data": {
      "text/plain": [
       "[2, 3, 4, 5, 6, 7, 8, 9, 10, 11, 12, 13, 14, 15, 16, 17, 19, 20, 21, 23]"
      ]
     },
     "execution_count": 10,
     "metadata": {},
     "output_type": "execute_result"
    }
   ],
   "source": [
    "sub_ids"
   ]
  },
  {
   "cell_type": "code",
   "execution_count": 10,
   "id": "d5e269f5",
   "metadata": {},
   "outputs": [],
   "source": [
    "data = mat_contents['data21']"
   ]
  },
  {
   "cell_type": "code",
   "execution_count": 11,
   "id": "f250b894",
   "metadata": {},
   "outputs": [
    {
     "data": {
      "text/plain": [
       "(125, 34795, 20)"
      ]
     },
     "execution_count": 11,
     "metadata": {},
     "output_type": "execute_result"
    }
   ],
   "source": [
    "data.shape"
   ]
  },
  {
   "cell_type": "code",
   "execution_count": 12,
   "id": "e0198f8c",
   "metadata": {},
   "outputs": [],
   "source": [
    "sub_data = []\n",
    "x = []\n",
    "y = []\n",
    "z = 125*lag\n",
    "for idx in range(20):\n",
    "    for i in range(0,len(data[0])-z,z):\n",
    "        x.append(data[:,i:i+(z),idx])\n",
    "        y.append([idx,0])"
   ]
  },
  {
   "cell_type": "code",
   "execution_count": 13,
   "id": "bdaeaa08",
   "metadata": {},
   "outputs": [
    {
     "data": {
      "text/plain": [
       "dict_keys(['__header__', '__version__', '__globals__', 'data22', 'fs', 'subs22'])"
      ]
     },
     "execution_count": 13,
     "metadata": {},
     "output_type": "execute_result"
    }
   ],
   "source": [
    "mat_contents = loadmat('song22_Imputed.mat')\n",
    "mat_contents.keys()"
   ]
  },
  {
   "cell_type": "code",
   "execution_count": 14,
   "id": "c883bfac",
   "metadata": {},
   "outputs": [
    {
     "name": "stdout",
     "output_type": "stream",
     "text": [
      "[2, 3, 4, 5, 6, 7, 8, 9, 10, 11, 12, 13, 14, 15, 16, 17, 19, 20, 21, 23]\n"
     ]
    }
   ],
   "source": [
    "subj = mat_contents['subs22']\n",
    "sub_ids = []\n",
    "for id in subj[0]:\n",
    "    sub_ids.append(int(id[0][1:]))\n",
    "print(sub_ids)\n",
    "data = mat_contents['data22']\n",
    "for idx in range(20):\n",
    "    for i in range(0,len(data[0])-z,z):\n",
    "        x.append(data[:,i:i+(z),idx])\n",
    "        y.append([idx,1])"
   ]
  },
  {
   "cell_type": "code",
   "execution_count": 15,
   "id": "a6f0005e",
   "metadata": {},
   "outputs": [
    {
     "data": {
      "text/plain": [
       "dict_keys(['__header__', '__version__', '__globals__', 'data23', 'fs', 'subs23'])"
      ]
     },
     "execution_count": 15,
     "metadata": {},
     "output_type": "execute_result"
    }
   ],
   "source": [
    "mat_contents = loadmat('song23_Imputed.mat')\n",
    "mat_contents.keys()"
   ]
  },
  {
   "cell_type": "code",
   "execution_count": 16,
   "id": "9394097b",
   "metadata": {},
   "outputs": [
    {
     "name": "stdout",
     "output_type": "stream",
     "text": [
      "[2, 3, 4, 5, 6, 7, 8, 9, 10, 11, 12, 13, 14, 15, 16, 17, 19, 20, 21, 23]\n"
     ]
    }
   ],
   "source": [
    "subj = mat_contents['subs23']\n",
    "sub_ids = []\n",
    "for id in subj[0]:\n",
    "    sub_ids.append(int(id[0][1:]))\n",
    "print(sub_ids)\n",
    "data = mat_contents['data23']\n",
    "for idx in range(20):\n",
    "    for i in range(0,len(data[0])-z,z):\n",
    "        x.append(data[:,i:i+(z),idx])\n",
    "        y.append([idx,2])"
   ]
  },
  {
   "cell_type": "code",
   "execution_count": 17,
   "id": "5e8cf201",
   "metadata": {},
   "outputs": [
    {
     "data": {
      "text/plain": [
       "dict_keys(['__header__', '__version__', '__globals__', 'data24', 'fs', 'subs24'])"
      ]
     },
     "execution_count": 17,
     "metadata": {},
     "output_type": "execute_result"
    }
   ],
   "source": [
    "mat_contents = loadmat('song24_Imputed.mat')\n",
    "mat_contents.keys()"
   ]
  },
  {
   "cell_type": "code",
   "execution_count": 18,
   "id": "be1f1a00",
   "metadata": {},
   "outputs": [
    {
     "name": "stdout",
     "output_type": "stream",
     "text": [
      "[2, 3, 4, 5, 6, 7, 8, 9, 10, 11, 12, 13, 14, 15, 16, 17, 19, 20, 21, 23]\n"
     ]
    }
   ],
   "source": [
    "subj = mat_contents['subs24']\n",
    "sub_ids = []\n",
    "for id in subj[0]:\n",
    "    sub_ids.append(int(id[0][1:]))\n",
    "print(sub_ids)\n",
    "data = mat_contents['data24']\n",
    "for idx in range(20):\n",
    "    for i in range(0,len(data[0])-z,z):\n",
    "        x.append(data[:,i:i+(z),idx])\n",
    "        y.append([idx,3])"
   ]
  },
  {
   "cell_type": "code",
   "execution_count": 19,
   "id": "a467de8f",
   "metadata": {},
   "outputs": [],
   "source": [
    "mat_contents = loadmat('song25_Imputed.mat')\n",
    "data = mat_contents['data25']\n",
    "for idx in range(20):\n",
    "    for i in range(0,len(data[0])-z,z):\n",
    "        x.append(data[:,i:i+(z),idx])\n",
    "        y.append([idx,4])\n",
    "mat_contents = loadmat('song26_Imputed.mat')\n",
    "data = mat_contents['data26']\n",
    "for idx in range(20):\n",
    "    for i in range(0,len(data[0])-z,z):\n",
    "        x.append(data[:,i:i+(z),idx])\n",
    "        y.append([idx,5])\n",
    "mat_contents = loadmat('song27_Imputed.mat')\n",
    "data = mat_contents['data27']\n",
    "for idx in range(20):\n",
    "    for i in range(0,len(data[0])-z,z):\n",
    "        x.append(data[:,i:i+(z),idx])\n",
    "        y.append([idx,6])\n",
    "mat_contents = loadmat('song28_Imputed.mat')\n",
    "data = mat_contents['data28']\n",
    "for idx in range(20):\n",
    "    for i in range(0,len(data[0])-z,z):\n",
    "        x.append(data[:,i:i+(z),idx])\n",
    "        y.append([idx,7])\n",
    "mat_contents = loadmat('song29_Imputed.mat')\n",
    "data = mat_contents['data29']\n",
    "for idx in range(20):\n",
    "    for i in range(0,len(data[0])-z,z):\n",
    "        x.append(data[:,i:i+(z),idx])\n",
    "        y.append([idx,8])\n",
    "mat_contents = loadmat('song30_Imputed.mat')\n",
    "data = mat_contents['data30']\n",
    "for idx in range(20):\n",
    "    for i in range(0,len(data[0])-z,z):\n",
    "        x.append(data[:,i:i+(z),idx])\n",
    "        y.append([idx,9])"
   ]
  },
  {
   "cell_type": "code",
   "execution_count": 20,
   "id": "fd271232",
   "metadata": {},
   "outputs": [
    {
     "data": {
      "text/plain": [
       "(125, 37221, 20)"
      ]
     },
     "execution_count": 20,
     "metadata": {},
     "output_type": "execute_result"
    }
   ],
   "source": [
    "data.shape"
   ]
  },
  {
   "cell_type": "code",
   "execution_count": 21,
   "id": "270c12e2",
   "metadata": {},
   "outputs": [
    {
     "data": {
      "text/plain": [
       "5620"
      ]
     },
     "execution_count": 21,
     "metadata": {},
     "output_type": "execute_result"
    }
   ],
   "source": [
    "len(x)"
   ]
  },
  {
   "cell_type": "code",
   "execution_count": 22,
   "id": "10468056",
   "metadata": {},
   "outputs": [
    {
     "data": {
      "text/plain": [
       "5620"
      ]
     },
     "execution_count": 22,
     "metadata": {},
     "output_type": "execute_result"
    }
   ],
   "source": [
    "len(y)"
   ]
  },
  {
   "cell_type": "code",
   "execution_count": null,
   "id": "9799d525",
   "metadata": {},
   "outputs": [
    {
     "name": "stdout",
     "output_type": "stream",
     "text": [
      "(5620, 125, 1250)\n",
      "(5620, 2)\n",
      "{0, 1, 2, 3, 4, 5, 6, 7, 8, 9, 10, 11, 12, 13, 14, 15, 16, 17, 18, 19}\n",
      "{0, 1, 2, 3, 4, 5, 6, 7, 8, 9}\n"
     ]
    },
    {
     "name": "stderr",
     "output_type": "stream",
     "text": [
      "2022-07-15 14:07:13.140875: I tensorflow/compiler/jit/xla_cpu_device.cc:41] Not creating XLA devices, tf_xla_enable_xla_devices not set\n",
      "2022-07-15 14:07:13.141060: I tensorflow/stream_executor/cuda/cuda_gpu_executor.cc:941] successful NUMA node read from SysFS had negative value (-1), but there must be at least one NUMA node, so returning NUMA node zero\n",
      "2022-07-15 14:07:13.141519: I tensorflow/core/common_runtime/gpu/gpu_device.cc:1720] Found device 0 with properties: \n",
      "pciBusID: 0000:08:00.0 name: GeForce RTX 2060 SUPER computeCapability: 7.5\n",
      "coreClock: 1.695GHz coreCount: 34 deviceMemorySize: 7.79GiB deviceMemoryBandwidth: 417.29GiB/s\n",
      "2022-07-15 14:07:13.141543: I tensorflow/stream_executor/platform/default/dso_loader.cc:49] Successfully opened dynamic library libcudart.so.10.1\n",
      "2022-07-15 14:07:13.141564: I tensorflow/stream_executor/platform/default/dso_loader.cc:49] Successfully opened dynamic library libcublas.so.10\n",
      "2022-07-15 14:07:13.141573: I tensorflow/stream_executor/platform/default/dso_loader.cc:49] Successfully opened dynamic library libcublasLt.so.10\n",
      "2022-07-15 14:07:13.141581: I tensorflow/stream_executor/platform/default/dso_loader.cc:49] Successfully opened dynamic library libcufft.so.10\n",
      "2022-07-15 14:07:13.141589: I tensorflow/stream_executor/platform/default/dso_loader.cc:49] Successfully opened dynamic library libcurand.so.10\n",
      "2022-07-15 14:07:13.141597: I tensorflow/stream_executor/platform/default/dso_loader.cc:49] Successfully opened dynamic library libcusolver.so.10\n",
      "2022-07-15 14:07:13.141604: I tensorflow/stream_executor/platform/default/dso_loader.cc:49] Successfully opened dynamic library libcusparse.so.10\n",
      "2022-07-15 14:07:13.141616: I tensorflow/stream_executor/platform/default/dso_loader.cc:49] Successfully opened dynamic library libcudnn.so.7\n",
      "2022-07-15 14:07:13.141659: I tensorflow/stream_executor/cuda/cuda_gpu_executor.cc:941] successful NUMA node read from SysFS had negative value (-1), but there must be at least one NUMA node, so returning NUMA node zero\n",
      "2022-07-15 14:07:13.142086: I tensorflow/stream_executor/cuda/cuda_gpu_executor.cc:941] successful NUMA node read from SysFS had negative value (-1), but there must be at least one NUMA node, so returning NUMA node zero\n",
      "2022-07-15 14:07:13.142477: I tensorflow/core/common_runtime/gpu/gpu_device.cc:1862] Adding visible gpu devices: 0\n",
      "2022-07-15 14:07:13.142585: I tensorflow/compiler/jit/xla_gpu_device.cc:99] Not creating XLA devices, tf_xla_enable_xla_devices not set\n",
      "2022-07-15 14:07:13.142640: I tensorflow/stream_executor/cuda/cuda_gpu_executor.cc:941] successful NUMA node read from SysFS had negative value (-1), but there must be at least one NUMA node, so returning NUMA node zero\n",
      "2022-07-15 14:07:13.143037: I tensorflow/core/common_runtime/gpu/gpu_device.cc:1720] Found device 0 with properties: \n",
      "pciBusID: 0000:08:00.0 name: GeForce RTX 2060 SUPER computeCapability: 7.5\n",
      "coreClock: 1.695GHz coreCount: 34 deviceMemorySize: 7.79GiB deviceMemoryBandwidth: 417.29GiB/s\n",
      "2022-07-15 14:07:13.143048: I tensorflow/stream_executor/platform/default/dso_loader.cc:49] Successfully opened dynamic library libcudart.so.10.1\n",
      "2022-07-15 14:07:13.143057: I tensorflow/stream_executor/platform/default/dso_loader.cc:49] Successfully opened dynamic library libcublas.so.10\n",
      "2022-07-15 14:07:13.143065: I tensorflow/stream_executor/platform/default/dso_loader.cc:49] Successfully opened dynamic library libcublasLt.so.10\n",
      "2022-07-15 14:07:13.143072: I tensorflow/stream_executor/platform/default/dso_loader.cc:49] Successfully opened dynamic library libcufft.so.10\n",
      "2022-07-15 14:07:13.143080: I tensorflow/stream_executor/platform/default/dso_loader.cc:49] Successfully opened dynamic library libcurand.so.10\n",
      "2022-07-15 14:07:13.143087: I tensorflow/stream_executor/platform/default/dso_loader.cc:49] Successfully opened dynamic library libcusolver.so.10\n",
      "2022-07-15 14:07:13.143095: I tensorflow/stream_executor/platform/default/dso_loader.cc:49] Successfully opened dynamic library libcusparse.so.10\n",
      "2022-07-15 14:07:13.143102: I tensorflow/stream_executor/platform/default/dso_loader.cc:49] Successfully opened dynamic library libcudnn.so.7\n",
      "2022-07-15 14:07:13.143140: I tensorflow/stream_executor/cuda/cuda_gpu_executor.cc:941] successful NUMA node read from SysFS had negative value (-1), but there must be at least one NUMA node, so returning NUMA node zero\n",
      "2022-07-15 14:07:13.143569: I tensorflow/stream_executor/cuda/cuda_gpu_executor.cc:941] successful NUMA node read from SysFS had negative value (-1), but there must be at least one NUMA node, so returning NUMA node zero\n",
      "2022-07-15 14:07:13.143955: I tensorflow/core/common_runtime/gpu/gpu_device.cc:1862] Adding visible gpu devices: 0\n",
      "2022-07-15 14:07:13.143978: I tensorflow/core/common_runtime/gpu/gpu_device.cc:1261] Device interconnect StreamExecutor with strength 1 edge matrix:\n",
      "2022-07-15 14:07:13.143982: I tensorflow/core/common_runtime/gpu/gpu_device.cc:1267]      0 \n",
      "2022-07-15 14:07:13.143986: I tensorflow/core/common_runtime/gpu/gpu_device.cc:1280] 0:   N \n",
      "2022-07-15 14:07:13.144053: I tensorflow/stream_executor/cuda/cuda_gpu_executor.cc:941] successful NUMA node read from SysFS had negative value (-1), but there must be at least one NUMA node, so returning NUMA node zero\n",
      "2022-07-15 14:07:13.144477: I tensorflow/stream_executor/cuda/cuda_gpu_executor.cc:941] successful NUMA node read from SysFS had negative value (-1), but there must be at least one NUMA node, so returning NUMA node zero\n",
      "2022-07-15 14:07:13.144872: I tensorflow/core/common_runtime/gpu/gpu_device.cc:1406] Created TensorFlow device (/job:localhost/replica:0/task:0/device:GPU:0 with 2792 MB memory) -> physical GPU (device: 0, name: GeForce RTX 2060 SUPER, pci bus id: 0000:08:00.0, compute capability: 7.5)\n",
      "2022-07-15 14:07:16.407386: I tensorflow/compiler/mlir/mlir_graph_optimization_pass.cc:116] None of the MLIR optimization passes are enabled (registered 2)\n",
      "2022-07-15 14:07:16.425226: I tensorflow/core/platform/profile_utils/cpu_utils.cc:112] CPU Frequency: 3692645000 Hz\n"
     ]
    },
    {
     "name": "stdout",
     "output_type": "stream",
     "text": [
      "Epoch 1/2\n"
     ]
    },
    {
     "name": "stderr",
     "output_type": "stream",
     "text": [
      "2022-07-15 14:07:16.867384: I tensorflow/stream_executor/platform/default/dso_loader.cc:49] Successfully opened dynamic library libcublas.so.10\n",
      "2022-07-15 14:07:17.042593: I tensorflow/stream_executor/platform/default/dso_loader.cc:49] Successfully opened dynamic library libcudnn.so.7\n"
     ]
    },
    {
     "name": "stdout",
     "output_type": "stream",
     "text": [
      "124/124 - 6s - loss: 2.3095 - accuracy: 0.1044 - val_loss: 2.3035 - val_accuracy: 0.1111\n",
      "\n",
      "Epoch 00001: val_loss improved from inf to 2.30354, saving model to /tmp/checkpoint_120.h5\n",
      "Epoch 2/2\n",
      "124/124 - 4s - loss: 2.2777 - accuracy: 0.1453 - val_loss: 2.3017 - val_accuracy: 0.1259\n",
      "\n",
      "Epoch 00002: val_loss improved from 2.30354 to 2.30170, saving model to /tmp/checkpoint_120.h5\n",
      "Classification accuracy: 0.118327 \n",
      "Recall: 0.118662\n",
      "Precision: 0.118382\n",
      "Accuracy: 0.118327\n",
      "F1 Score: 0.116260\n",
      "Epoch 1/2\n",
      "124/124 - 4s - loss: 2.3098 - accuracy: 0.1168 - val_loss: 2.3023 - val_accuracy: 0.1111\n",
      "\n",
      "Epoch 00001: val_loss improved from inf to 2.30231, saving model to /tmp/checkpoint_120.h5\n",
      "Epoch 2/2\n",
      "124/124 - 4s - loss: 2.2766 - accuracy: 0.1408 - val_loss: 2.3101 - val_accuracy: 0.1130\n",
      "\n",
      "Epoch 00002: val_loss did not improve from 2.30231\n",
      "Classification accuracy: 0.137011 \n",
      "Recall: 0.138303\n",
      "Precision: 0.126640\n",
      "Accuracy: 0.137011\n",
      "F1 Score: 0.127628\n",
      "Epoch 1/2\n",
      "124/124 - 4s - loss: 2.3144 - accuracy: 0.1034 - val_loss: 2.2972 - val_accuracy: 0.1185\n",
      "\n",
      "Epoch 00001: val_loss improved from inf to 2.29723, saving model to /tmp/checkpoint_120.h5\n",
      "Epoch 2/2\n",
      "124/124 - 4s - loss: 2.2764 - accuracy: 0.1459 - val_loss: 2.2967 - val_accuracy: 0.1111\n",
      "\n",
      "Epoch 00002: val_loss improved from 2.29723 to 2.29673, saving model to /tmp/checkpoint_120.h5\n",
      "Classification accuracy: 0.120996 \n",
      "Recall: 0.120297\n",
      "Precision: 0.114565\n",
      "Accuracy: 0.120996\n",
      "F1 Score: 0.106198\n",
      "Epoch 1/2\n",
      "124/124 - 4s - loss: 2.3171 - accuracy: 0.1069 - val_loss: 2.2989 - val_accuracy: 0.1296\n",
      "\n",
      "Epoch 00001: val_loss improved from inf to 2.29892, saving model to /tmp/checkpoint_120.h5\n",
      "Epoch 2/2\n",
      "124/124 - 4s - loss: 2.2709 - accuracy: 0.1464 - val_loss: 2.2984 - val_accuracy: 0.1296\n",
      "\n",
      "Epoch 00002: val_loss improved from 2.29892 to 2.29838, saving model to /tmp/checkpoint_120.h5\n",
      "Classification accuracy: 0.110320 \n",
      "Recall: 0.109955\n",
      "Precision: 0.110796\n",
      "Accuracy: 0.110320\n",
      "F1 Score: 0.104584\n",
      "Epoch 1/2\n",
      "124/124 - 5s - loss: 2.3137 - accuracy: 0.1009 - val_loss: 2.3028 - val_accuracy: 0.1056\n",
      "\n",
      "Epoch 00001: val_loss improved from inf to 2.30276, saving model to /tmp/checkpoint_120.h5\n",
      "Epoch 2/2\n",
      "124/124 - 4s - loss: 2.2834 - accuracy: 0.1352 - val_loss: 2.2959 - val_accuracy: 0.1241\n",
      "\n",
      "Epoch 00002: val_loss improved from 2.30276 to 2.29588, saving model to /tmp/checkpoint_120.h5\n",
      "Classification accuracy: 0.125445 \n",
      "Recall: 0.125396\n",
      "Precision: 0.129912\n",
      "Accuracy: 0.125445\n",
      "F1 Score: 0.124767\n"
     ]
    },
    {
     "name": "stderr",
     "output_type": "stream",
     "text": [
      "/tmp/ipykernel_22167/3938278297.py:91: FutureWarning: The frame.append method is deprecated and will be removed from pandas in a future version. Use pandas.concat instead.\n",
      "  df_values = df_values.append({'Architecture': mdx,\n"
     ]
    },
    {
     "name": "stdout",
     "output_type": "stream",
     "text": [
      "Epoch 1/2\n",
      "124/124 - 4s - loss: 2.4125 - accuracy: 0.1082 - val_loss: 2.3051 - val_accuracy: 0.0741\n",
      "\n",
      "Epoch 00001: val_loss improved from inf to 2.30515, saving model to /tmp/checkpoint_120.h5\n",
      "Epoch 2/2\n",
      "124/124 - 4s - loss: 2.3334 - accuracy: 0.1132 - val_loss: 2.3107 - val_accuracy: 0.1019\n",
      "\n",
      "Epoch 00002: val_loss did not improve from 2.30515\n",
      "Classification accuracy: 0.096975 \n",
      "Recall: 0.095953\n",
      "Precision: 0.089706\n",
      "Accuracy: 0.096975\n",
      "F1 Score: 0.086698\n",
      "Epoch 1/2\n"
     ]
    }
   ],
   "source": [
    "from sklearn.model_selection import KFold, StratifiedKFold\n",
    "from sklearn.model_selection import train_test_split\n",
    "from sklearn.metrics import precision_score, recall_score, f1_score, accuracy_score\n",
    "from tensorflow.keras import utils as np_utils\n",
    "from tensorflow.keras.callbacks import ModelCheckpoint\n",
    "from tensorflow.keras import backend as K\n",
    "import numpy as np\n",
    "from matplotlib import pyplot as plt\n",
    "from pyriemann.utils.viz import plot_confusion_matrix\n",
    "import pandas as pd\n",
    "\n",
    "y = np.array(y)\n",
    "x =np.array(x)\n",
    "chans = x.shape[1]\n",
    "samples = x.shape[2]\n",
    "kernels = 1\n",
    "print(x.shape)\n",
    "print(y.shape)\n",
    "print(set(y[:,0]))\n",
    "print(set(y[:,1]))\n",
    "\n",
    "clfs_names = ['EEGNet','EEGNet_SSVEP','DeepConvNet']\n",
    "\n",
    "df_values = pd.DataFrame()\n",
    "\n",
    "class_weights = {0:1, 1:1, 2:1, 3:1, 4:1, 5:1, 6:1, 7:1, 8:1, 9:1}\n",
    "kfold = StratifiedKFold(n_splits=5, random_state=1, shuffle=True)\n",
    "for mdx in clfs_names:\n",
    "    acc = []\n",
    "    prec = []\n",
    "    rec = []\n",
    "    f1 = []\n",
    "    for train_index, test_index in kfold.split(x,y[:,1]):\n",
    "        \n",
    "        if mdx == 'EEGNet':\n",
    "            model = EEGNet(nb_classes = 10, Chans = chans, Samples = samples, \n",
    "                           dropoutRate = 0.5, kernLength = 32, F1 = 8, D = 2, F2 = 16, dropoutType = 'Dropout')\n",
    "        elif mdx == 'EEGNet_SSVEP':\n",
    "            model = EEGNet_SSVEP(nb_classes = 10, Chans = chans, Samples = samples,\n",
    "                                 dropoutRate = 0.5, kernLength = 32, F1 = 8, D = 2, F2 = 16, dropoutType = 'Dropout')\n",
    "        else:\n",
    "            model = DeepConvNet(nb_classes = 10, Chans = chans, Samples = samples, dropoutRate = 0.5)\n",
    "            \n",
    "            \n",
    "        X_train, X_test = x[train_index], x[test_index]\n",
    "        y_train, y_test = y[train_index], y[test_index]\n",
    "        X_train, X_validate, y_train, y_validate = train_test_split(X_train, y_train,stratify=y_train[:,1],test_size=0.12)\n",
    "\n",
    "        # convert labels to one-hot encodings.\n",
    "        Y_train      = np_utils.to_categorical(y_train[:,1])\n",
    "        Y_validate   = np_utils.to_categorical(y_validate[:,1])\n",
    "        Y_test       = np_utils.to_categorical(y_test[:,1])\n",
    "\n",
    "        # convert data to NHWC (trials, channels, samples, kernels) format. Data \n",
    "        # contains 60 channels and 151 time-points. Set the number of kernels to 1.\n",
    "        X_train      = X_train.reshape(X_train.shape[0], chans, samples, kernels)\n",
    "        X_validate   = X_validate.reshape(X_validate.shape[0], chans, samples, kernels)\n",
    "        X_test       = X_test.reshape(X_test.shape[0], chans, samples, kernels)\n",
    "\n",
    "        # compile the model and set the optimizers\n",
    "        model.compile(loss='categorical_crossentropy', optimizer='adam', metrics = ['accuracy'])\n",
    "        \n",
    "        # count number of parameters in the model\n",
    "        numParams    = model.count_params()\n",
    "        \n",
    "        # set a valid path for your system to record model checkpoints\n",
    "        checkpointer = ModelCheckpoint(filepath='/tmp/checkpoint_120.h5', verbose=1, save_best_only=True)\n",
    "        fittedModel = model.fit(X_train, Y_train, batch_size = 32, epochs = 2, \n",
    "                            verbose = 2, validation_data=(X_validate, Y_validate),\n",
    "                            callbacks=[checkpointer], class_weight = class_weights)\n",
    "        model.load_weights('/tmp/checkpoint_120.h5')\n",
    "\n",
    "        probs       = model.predict(X_test)\n",
    "        preds       = probs.argmax(axis = -1)  \n",
    "        ac         = np.mean(preds == Y_test.argmax(axis=-1))\n",
    "        acc.append(ac)\n",
    "        prec.append(precision_score(Y_test.argmax(axis=-1), preds, average='macro'))\n",
    "        rec.append(recall_score(Y_test.argmax(axis=-1), preds, average='macro'))\n",
    "        f1.append(f1_score(Y_test.argmax(axis=-1), preds, average='macro'))\n",
    "        print(\"Classification accuracy: %f \" % (ac))\n",
    "        print(\"Recall: %f\" % recall_score(Y_test.argmax(axis=-1), preds, average='macro'))\n",
    "        print(\"Precision: %f\" % precision_score(Y_test.argmax(axis=-1), preds, average='macro'))\n",
    "        print(\"Accuracy: %f\" % accuracy_score(Y_test.argmax(axis=-1), preds, ))\n",
    "        print(\"F1 Score: %f\" % f1_score(Y_test.argmax(axis=-1), preds, average='macro'))\n",
    "\n",
    "\n",
    "        names        = ['song1', 'song2', 'song3', 'song4', 'song5', 'song6', 'song7', 'song8', 'song9', 'song10']\n",
    "        plt.figure(0)\n",
    "        plot_confusion_matrix(preds, Y_test.argmax(axis = -1), names, title = mdx)\n",
    "        \n",
    "    df_values = df_values.append({'Architecture': mdx,\n",
    "                                                'X': x.shape,\n",
    "                                                'X_train': X_train.shape,\n",
    "                                                'X_test': X_test.shape,\n",
    "                                                'Count_Y_train': len(set(y_train[:,1])),\n",
    "                                                'Count_Y_test': len(set(y_test[:,1])),\n",
    "                                                'Accuracies': acc,\n",
    "                                                'Mean_Accuracy': np.mean(acc),\n",
    "                                                'Std_Accuracy': np.std(acc),\n",
    "                                                'Precisions': prec,\n",
    "                                                'Mean_Precision': np.mean(prec),\n",
    "                                                'Std_Precision': np.std(prec),\n",
    "                                                'Recalls': rec,\n",
    "                                                'Mean_Recall': np.mean(rec),\n",
    "                                                'Std_Recall': np.std(rec),\n",
    "                                                'F1 scores': f1, \n",
    "                                                'Mean_F1': np.mean(f1),\n",
    "                                                'Std_F1': np.std(f1),\n",
    "                                                'Accuracy_Std': str(np.round(np.mean(acc), 2))+' ±'+str(np.round(np.std(acc), 2))}, ignore_index=True)\n",
    "    df_values.to_csv('clf_results_NMED-T_5fold_'+str(lag)+'chunk.csv', index=False)\n",
    "        "
   ]
  },
  {
   "cell_type": "code",
   "execution_count": 29,
   "id": "3d4c0e23",
   "metadata": {},
   "outputs": [
    {
     "name": "stdout",
     "output_type": "stream",
     "text": [
      "Model: \"model\"\n",
      "_________________________________________________________________\n",
      "Layer (type)                 Output Shape              Param #   \n",
      "=================================================================\n",
      "input_1 (InputLayer)         [(None, 125, 1250, 1)]    0         \n",
      "_________________________________________________________________\n",
      "conv2d (Conv2D)              (None, 125, 1250, 8)      256       \n",
      "_________________________________________________________________\n",
      "batch_normalization (BatchNo (None, 125, 1250, 8)      32        \n",
      "_________________________________________________________________\n",
      "depthwise_conv2d (DepthwiseC (None, 1, 1250, 16)       2000      \n",
      "_________________________________________________________________\n",
      "batch_normalization_1 (Batch (None, 1, 1250, 16)       64        \n",
      "_________________________________________________________________\n",
      "activation (Activation)      (None, 1, 1250, 16)       0         \n",
      "_________________________________________________________________\n",
      "average_pooling2d (AveragePo (None, 1, 312, 16)        0         \n",
      "_________________________________________________________________\n",
      "dropout (Dropout)            (None, 1, 312, 16)        0         \n",
      "_________________________________________________________________\n",
      "separable_conv2d (SeparableC (None, 1, 312, 16)        512       \n",
      "_________________________________________________________________\n",
      "batch_normalization_2 (Batch (None, 1, 312, 16)        64        \n",
      "_________________________________________________________________\n",
      "activation_1 (Activation)    (None, 1, 312, 16)        0         \n",
      "_________________________________________________________________\n",
      "average_pooling2d_1 (Average (None, 1, 39, 16)         0         \n",
      "_________________________________________________________________\n",
      "dropout_1 (Dropout)          (None, 1, 39, 16)         0         \n",
      "_________________________________________________________________\n",
      "flatten (Flatten)            (None, 624)               0         \n",
      "_________________________________________________________________\n",
      "dense (Dense)                (None, 10)                6250      \n",
      "_________________________________________________________________\n",
      "softmax (Activation)         (None, 10)                0         \n",
      "=================================================================\n",
      "Total params: 9,178\n",
      "Trainable params: 9,098\n",
      "Non-trainable params: 80\n",
      "_________________________________________________________________\n"
     ]
    }
   ],
   "source": [
    "# model.summary()"
   ]
  },
  {
   "cell_type": "code",
   "execution_count": 30,
   "id": "bf7be073",
   "metadata": {},
   "outputs": [],
   "source": [
    "# out = model.get_layer(name =\"dense\" ).output\n",
    "# inp = model.input"
   ]
  },
  {
   "cell_type": "code",
   "execution_count": 31,
   "id": "a82ae812",
   "metadata": {},
   "outputs": [
    {
     "data": {
      "text/plain": [
       "<KerasTensor: shape=(None, 125, 1250, 1) dtype=float32 (created by layer 'input_1')>"
      ]
     },
     "execution_count": 31,
     "metadata": {},
     "output_type": "execute_result"
    }
   ],
   "source": [
    "# model.input"
   ]
  },
  {
   "cell_type": "code",
   "execution_count": 32,
   "id": "a1f15f62",
   "metadata": {},
   "outputs": [],
   "source": [
    "# # from keras import backend as K\n",
    "\n",
    "# inp = model.input                                           # input placeholder\n",
    "# outputs = [layer.output for layer in model.layers]          # all layer outputs\n",
    "# functors = [K.function([inp], [out]) for out in outputs]    # evaluation functions\n"
   ]
  },
  {
   "cell_type": "code",
   "execution_count": null,
   "id": "58aa1972",
   "metadata": {},
   "outputs": [],
   "source": [
    "# # Testing\n",
    "# test = X_train\n",
    "# layer_outs = [func([test]) for func in functors]\n",
    "# # print (layer_outs)"
   ]
  },
  {
   "cell_type": "code",
   "execution_count": null,
   "id": "d01fbbf4",
   "metadata": {},
   "outputs": [],
   "source": [
    "# print(len(layer_outs))"
   ]
  },
  {
   "cell_type": "code",
   "execution_count": null,
   "id": "b1c02534",
   "metadata": {},
   "outputs": [],
   "source": [
    "# layer_outs[15]"
   ]
  },
  {
   "cell_type": "code",
   "execution_count": null,
   "id": "94b669fa",
   "metadata": {},
   "outputs": [],
   "source": [
    "# layer_outs[14]"
   ]
  },
  {
   "cell_type": "code",
   "execution_count": null,
   "id": "8359efc8",
   "metadata": {},
   "outputs": [],
   "source": [
    "# layer_outs[13]"
   ]
  },
  {
   "cell_type": "code",
   "execution_count": null,
   "id": "6c2643f7",
   "metadata": {},
   "outputs": [],
   "source": [
    "# from sklearn.manifold import TSNE\n",
    "# import seaborn as sns\n",
    "# rt = np.array(layer_outs[13])\n",
    "# print(rt.shape)\n",
    "# X_embedded = TSNE(n_components=2, learning_rate='auto',init='random').fit_transform(rt[0])\n",
    "# print(X_embedded.shape)"
   ]
  },
  {
   "cell_type": "code",
   "execution_count": null,
   "id": "6eabe5ee",
   "metadata": {},
   "outputs": [],
   "source": [
    "# T1.argmax(axis=-1)"
   ]
  },
  {
   "cell_type": "code",
   "execution_count": null,
   "id": "d698cc65",
   "metadata": {},
   "outputs": [],
   "source": [
    "# T1.argmax(axis=-1).shape"
   ]
  },
  {
   "cell_type": "code",
   "execution_count": null,
   "id": "4199b3a2",
   "metadata": {},
   "outputs": [],
   "source": [
    "# import matplotlib.pyplot as plt\n",
    "\n",
    "# fig = plt.gcf()\n",
    "\n",
    "# # Change seaborn plot size\n",
    "# fig.set_size_inches(11, 14)\n",
    "# sns.scatterplot(x = X_embedded[:,0], y = X_embedded[:,1], hue = Y_train.argmax(axis=-1), palette = sns.hls_palette(10), legend = 'full')"
   ]
  },
  {
   "cell_type": "code",
   "execution_count": null,
   "id": "d87890a2",
   "metadata": {},
   "outputs": [],
   "source": [
    "# import matplotlib.pyplot as plt\n",
    "\n",
    "# fig = plt.gcf()\n",
    "\n",
    "# # Change seaborn plot size\n",
    "# fig.set_size_inches(11, 14)\n",
    "# sns.scatterplot(x = X_embedded[:,0], y = X_embedded[:,1], hue = y_train[:,0], palette = sns.hls_palette(20), legend = 'full')"
   ]
  },
  {
   "cell_type": "code",
   "execution_count": null,
   "id": "f262ec90",
   "metadata": {},
   "outputs": [],
   "source": [
    "# # from keras import backend as K\n",
    "\n",
    "# inp = model.input                                           # input placeholder\n",
    "# outputs = [layer.output for layer in model.layers]          # all layer outputs\n",
    "# functors = [K.function([inp], [out]) for out in outputs]    # evaluation functions\n"
   ]
  },
  {
   "cell_type": "code",
   "execution_count": null,
   "id": "56ecff17",
   "metadata": {},
   "outputs": [],
   "source": [
    "# # Testing\n",
    "# test = X_test\n",
    "# layer_outs = [func([test]) for func in functors]\n",
    "# # print (layer_outs)"
   ]
  },
  {
   "cell_type": "code",
   "execution_count": null,
   "id": "31f15a4d",
   "metadata": {},
   "outputs": [],
   "source": [
    "# print(len(layer_outs))"
   ]
  },
  {
   "cell_type": "code",
   "execution_count": null,
   "id": "bbf47917",
   "metadata": {},
   "outputs": [],
   "source": [
    "# from sklearn.manifold import TSNE\n",
    "# import seaborn as sns\n",
    "# rt = np.array(layer_outs[13])\n",
    "# print(rt.shape)\n",
    "# X_embedded = TSNE(n_components=2, learning_rate='auto',init='random').fit_transform(rt[0])\n",
    "# print(X_embedded.shape)"
   ]
  },
  {
   "cell_type": "code",
   "execution_count": null,
   "id": "60910d64",
   "metadata": {},
   "outputs": [],
   "source": [
    "# import matplotlib.pyplot as plt\n",
    "\n",
    "# fig = plt.gcf()\n",
    "\n",
    "# # Change seaborn plot size\n",
    "# fig.set_size_inches(11, 14)\n",
    "# sns.scatterplot(x = X_embedded[:,0], y = X_embedded[:,1], hue = y_test[:,1], palette = sns.hls_palette(10), legend = 'full')"
   ]
  },
  {
   "cell_type": "code",
   "execution_count": null,
   "id": "f585409e",
   "metadata": {},
   "outputs": [],
   "source": [
    "# import matplotlib.pyplot as plt\n",
    "\n",
    "# fig = plt.gcf()\n",
    "\n",
    "# # Change seaborn plot size\n",
    "# fig.set_size_inches(11, 14)\n",
    "# sns.scatterplot(x = X_embedded[:,0], y = X_embedded[:,1], hue = y_test[:,0], palette = sns.hls_palette(20), legend = 'full')"
   ]
  },
  {
   "cell_type": "code",
   "execution_count": null,
   "id": "7f8a8c1d",
   "metadata": {},
   "outputs": [],
   "source": []
  },
  {
   "cell_type": "code",
   "execution_count": null,
   "id": "c8d6a7e0",
   "metadata": {},
   "outputs": [],
   "source": []
  }
 ],
 "metadata": {
  "kernelspec": {
   "display_name": "Python [conda env:eeg_ml]",
   "language": "python",
   "name": "conda-env-eeg_ml-py"
  },
  "language_info": {
   "codemirror_mode": {
    "name": "ipython",
    "version": 3
   },
   "file_extension": ".py",
   "mimetype": "text/x-python",
   "name": "python",
   "nbconvert_exporter": "python",
   "pygments_lexer": "ipython3",
   "version": "3.9.12"
  }
 },
 "nbformat": 4,
 "nbformat_minor": 5
}
